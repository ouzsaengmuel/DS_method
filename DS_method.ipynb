{
 "cells": [
  {
   "cell_type": "markdown",
   "metadata": {},
   "source": [
    "# DS Methodology : Random Forests"
   ]
  },
  {
   "cell_type": "markdown",
   "metadata": {},
   "source": [
    "##### Author information\n",
    "- Name: Jiyoon Yeom\n",
    "- email address: 22100446@handong.ac.kr\n",
    "- GitHub: ouzsaengmuel\n",
    "- Youtube URL: https://www.youtube.com/@yjiwuggy"
   ]
  },
  {
   "attachments": {},
   "cell_type": "markdown",
   "metadata": {},
   "source": [
    "#### Part 1. Brief background of methodology\n",
    "- Explain the situation before this methodology was introduced.\n",
    "\n",
    "Classification algorithm learns from the training set and builds a model. The model, which is called a classifier, is then applied to testing set to predict the class labels for the unclassified objects.\n",
    "\n",
    "There is also a concept called ensemble classification that contrasts with single classification. The ensemble classification uses multiple classifiers described above and collectively uses them to identify unclassified objects.\n",
    "\n",
    "Even before the introduction of random forests, there were several classification algorithms in the field of data science, including logistic regression, k-NN, and SVM.\n",
    "\n",
    "Among the existing classification algorithms, there was also a tree-based algorithm called decision tree. A single decision tree divides the data according to the conditions, ultimately predicting the class.\n",
    "\n",
    "- Explain why this methodology is introduced and where it can be used.\n",
    "\n",
    "The making of decision tree varies greatly depending on the training dataset. This can cause an overfitting problem. If an overfit tree is created, there is a high probability that the predictions of tree will be less accurate when the tree model is applied to the test dataset later. \n",
    "\n",
    "Therefore, there is a great disadvantage that a single decision tree is difficult to generalize and use.\n",
    "\n",
    "To overcome the limitation of single decision tree, suggestions have begun to emerge that ensemble classification should be applied to decision trees. So, the random forest with an ensemble classification technique applied to decision tree was developed by Leo Breiman in 2001.\n"
   ]
  },
  {
   "attachments": {},
   "cell_type": "markdown",
   "metadata": {},
   "source": [
    "#### Part 2. Key concept of methodology\n",
    "- Explain the key concept of the methodology with mathematical equations.\n",
    "\n",
    "Random Forest is a collection of multiple random decision trees.\n",
    "\n",
    "<img src=\"RF_image.png\" alt=\"Random Forest Image\" width=\"700\"/>\n",
    "\n",
    "The overall process can be described as bagging, the bootstrap aggregating.\n",
    "\n",
    "Bagging = Bootstrap + Aggregation\n",
    "\n",
    "1) Bootstrap\n",
    "\n",
    "Bootstrapping refers to the random generation of new datasets from original data.\n",
    "By using randomly created datasets, instead of using the same data for each tree, it has the effect of helping the tree to be less sensitive to original data. The lower sensitivity of the tree to the original data contributes to solving the tree's overfitting problem.\n",
    "\n",
    "2) Aggregation\n",
    "\n",
    "Aggregation means collecting the results of all trees.\n",
    "After collecting all the results of the trees, each with a different dataset as an input, the final result is obtained by majority vote.\n",
    "\n",
    "3) Random Feature Selection\n",
    "\n",
    "Another important point of random forest is random feature selection. When there are multiple features that make up the data, the tree does not learn using all the features of the original data, but uses some randomly selected features. \n",
    "\n",
    "After features are randomly selected, the Gini impurity is calculated for the selected features.\n",
    "Once the feature with the lowest Gini impurity is defined, the feature is based on splitting nodes in the tree.\n",
    "\n",
    "$$\n",
    "\\text{Gini Impurity Index} = 1 - \\sum_{i=1}^{C} p(i)^2\n",
    "$$\n",
    "<small>p(i) means the proportion of class i in all classes.</small>\n",
    "\n",
    "The higher the Gini index is calculated because the values of p(i) are smaller as several classes are mixed. In this case, the nodes need to be further divided. Thus, the more features are selected in the direction of minimizing the Gini Index, the better the performance tree can be made.\n",
    "\n",
    "So, the Gini impurity index is used as a baseline for splitting node, and combined with random feature selection, it improves the diversity and reduces the risk of overfitting.\n",
    "\n",
    "\n",
    "4) Generalization Error\n",
    "\n",
    "The primary objective of implementing decision trees as ensemble techniques rather than as a single tree is to generalize tree model. The generalization error can be expressed in the following formula.\n",
    "\n",
    "$$\n",
    "PE^* = P_{X,Y}(mg(X,Y) < 0)\n",
    "$$\n",
    "\n",
    "mg(X,Y) represents the margin function, as shown in the following formula.\n",
    "\n",
    "$$\n",
    "mg(X,Y) = \\text{av}_k I(h_k(X) = Y) - \\max_{j \\neq Y} \\text{av}_k I(h_k(X) = j)\n",
    "$$\n",
    "\n",
    "This margin equals to the average number of votes when classifier h(k) classifies data X as Y, which is the correct answer, minus the largest number of votes when classifier h(k) classifies it as j, which is not the correct answer. Therefore, the margin function indicates how many times that classifier has been correctly classified than it has been misclassified. The larger the margin, the higher the reliability of classification.\n",
    "\n",
    "Let's go back to the generalization error formula. The generalization error is the probability when the margin value is less than 0. The fact that the margin value is less than zero means that the model made a lot of false classifications.\n",
    "\n",
    "The generalization error has the following upper bounds by mathematical proofs.\n",
    "\n",
    "$$\n",
    "PE^* \\leq \\bar{p} \\frac{(1 - s^2)}{s^2}\n",
    "$$\n",
    "<small>p means the value of the correlation of each classifier (tree).</small><br>\n",
    "<small>s means the strength of the classifiers.</small>\n",
    "\n",
    "The smaller the correlation between the classifiers and the greater the strength of the individual classifiers, the less generalization error.\n",
    "\n",
    "This equation shows the effect of the correlation and the strength of the classifiers on the performance of the model. Therefore, we find that it is very important to consider correlation and strength of classifiers in order to properly implement random forest whose main purpose is generalization.\n",
    "\n",
    "5) Brief Summary\n",
    "\n",
    "To summarize, bagging is the most important concept for implementing random forests. Bagging is a combination of bootstrap and aggregation, which means randomly generating datasets to apply to each tree, operating the decision tree, and organizing the results with a majority vote to determine the final result. And when dividing the nodes that make up the tree, it should be done in a way that minimizes the Gini index, and the correlation between trees should be low to minimize generalization errors.\n",
    "\n",
    "\n",
    "- Explain the main strength of the methodology. \n",
    "\n",
    "In random forest, \"forest\" means that it is made up of multiple decision trees, not just one. To understand why the forest is random forest, we need to understand two characteristics of random forest.\n",
    "\n",
    "1) Randomness in Bootstrap\n",
    "\n",
    "When bootstrap is performed, several data sets are randomly selected from the original data and different training data are assigned to each tree based on it. So, the variation of the tree can be lowered. It is a point that can overcome the overfitting problem, which was the biggest disadvantage of a single decision tree.\n",
    "\n",
    "2) Random Features Selection\n",
    "\n",
    "Rather than constructing a tree using all the features in the original data, features are randomly selected with different numbers. It helps to reduce the correlation between trees and, furthermore, to reduce generalization errors.\n",
    "\n"
   ]
  },
  {
   "attachments": {},
   "cell_type": "markdown",
   "metadata": {},
   "source": [
    "#### Part 3. Example\n",
    "- Using a very simple toy data, write down a sample code.\n",
    "- You must present the result, what it means, and how it can be used."
   ]
  },
  {
   "cell_type": "code",
   "execution_count": 1,
   "metadata": {},
   "outputs": [
    {
     "name": "stdout",
     "output_type": "stream",
     "text": [
      "   Pregnancies  Glucose  BloodPressure  SkinThickness  Insulin   BMI  \\\n",
      "0            6      148             72             35        0  33.6   \n",
      "1            1       85             66             29        0  26.6   \n",
      "2            8      183             64              0        0  23.3   \n",
      "3            1       89             66             23       94  28.1   \n",
      "4            0      137             40             35      168  43.1   \n",
      "\n",
      "   DiabetesPedigreeFunction  Age  Outcome  \n",
      "0                     0.627   50        1  \n",
      "1                     0.351   31        0  \n",
      "2                     0.672   32        1  \n",
      "3                     0.167   21        0  \n",
      "4                     2.288   33        1  \n"
     ]
    }
   ],
   "source": [
    "import pandas as pd\n",
    "from sklearn.model_selection import train_test_split\n",
    "from sklearn.ensemble import RandomForestClassifier\n",
    "from sklearn.metrics import classification_report, accuracy_score\n",
    "\n",
    "# Data Load\n",
    "url = \"https://raw.githubusercontent.com/jbrownlee/Datasets/master/pima-indians-diabetes.data.csv\"\n",
    "columns = [\"Pregnancies\", \"Glucose\", \"BloodPressure\", \"SkinThickness\", \"Insulin\", \"BMI\", \"DiabetesPedigreeFunction\", \"Age\", \"Outcome\"]\n",
    "diabetes_data = pd.read_csv(url, names=columns)\n",
    "\n",
    "print(diabetes_data.head())"
   ]
  },
  {
   "cell_type": "markdown",
   "metadata": {},
   "source": [
    "- Pima Indians Diabetes Dataset\n",
    "\n",
    "This dataset is widely used to train classification algorithm model in machine learning with data collected for the prediction of diabetes development in Pima Indian women. It consists of 768 samples and nine columns.\n",
    "\n",
    "Pregnancies: Number of pregnancies\n",
    "\n",
    "Glucose: glucose concentration\n",
    "\n",
    "BloodPressure: blood pressure (mm Hg)\n",
    "\n",
    "SkinThickness: skin thickness (mm)\n",
    "\n",
    "Insulin: insulin (mu U/ml)\n",
    "\n",
    "BMI: Body mass index (weight in kg/(height in m)^2)\n",
    "\n",
    "DiabetesPedigreeFunction: likelihood of diabetes based on family history\n",
    "\n",
    "Age: Age\n",
    "\n",
    "Outcome: 0 = non-diabetic, 1 = diabetic\n",
    "\n"
   ]
  },
  {
   "cell_type": "code",
   "execution_count": 14,
   "metadata": {},
   "outputs": [
    {
     "name": "stdout",
     "output_type": "stream",
     "text": [
      "Accuracy: 0.7207792207792207\n",
      "              precision    recall  f1-score   support\n",
      "\n",
      "           0       0.79      0.78      0.78        99\n",
      "           1       0.61      0.62      0.61        55\n",
      "\n",
      "    accuracy                           0.72       154\n",
      "   macro avg       0.70      0.70      0.70       154\n",
      "weighted avg       0.72      0.72      0.72       154\n",
      "\n"
     ]
    }
   ],
   "source": [
    "X = diabetes_data.drop('Outcome', axis=1) \n",
    "y = diabetes_data['Outcome']              \n",
    "\n",
    "# Splitting the original data into training set and test set\n",
    "# 20% for testing\n",
    "X_train, X_test, y_train, y_test = train_test_split(X, y, test_size=0.2, random_state=42)\n",
    "\n",
    "# Creating the Random Forest\n",
    "# n_estimators =  the # of trees in the forest.\n",
    "model = RandomForestClassifier(n_estimators=100, random_state=42)\n",
    "\n",
    "# Fitting the model on the training set\n",
    "model.fit(X_train, y_train)\n",
    "\n",
    "# Making predictions of 'Outcome' column on the test set\n",
    "y_pred = model.predict(X_test)\n",
    "\n",
    "# Evaluating the model's performance\n",
    "print(\"Accuracy:\", accuracy_score(y_test, y_pred)) \n",
    "print(classification_report(y_test, y_pred))  \n"
   ]
  },
  {
   "cell_type": "markdown",
   "metadata": {},
   "source": [
    "$$\n",
    "\\text{Precision} = \\frac{TP}{TP + FP}\n",
    "$$\n",
    "\n",
    "$$\n",
    "\\text{Recall} = \\frac{TP}{TP + FN}\n",
    "$$\n",
    "\n",
    "$$\n",
    "\\text{F1-score} = \\frac{2 \\times (\\text{Precision} \\times \\text{Recall})}{\\text{Precision} + \\text{Recall}}\n",
    "$$"
   ]
  },
  {
   "cell_type": "code",
   "execution_count": 15,
   "metadata": {},
   "outputs": [
    {
     "data": {
      "image/png": "[encoded data removed]",
      "text/plain": [
       "<Figure size 800x600 with 2 Axes>"
      ]
     },
     "metadata": {},
     "output_type": "display_data"
    }
   ],
   "source": [
    "# Visualize the TP,TN,FP,FN\n",
    "\n",
    "import seaborn as sns\n",
    "import matplotlib.pyplot as plt\n",
    "from sklearn.metrics import confusion_matrix\n",
    "\n",
    "# Confusion Matrix\n",
    "cm = confusion_matrix(y_test, y_pred)\n",
    "\n",
    "plt.figure(figsize=(8, 6))\n",
    "sns.heatmap(cm, annot=True, fmt='d', cmap='Blues', \n",
    "            xticklabels=['Non-Diabetic (0)', 'Diabetic (1)'], \n",
    "            yticklabels=['Non-Diabetic (0)', 'Diabetic (1)'])\n",
    "plt.xlabel('Predicted')\n",
    "plt.ylabel('Actual')\n",
    "plt.title('Confusion Matrix')\n",
    "plt.show()\n"
   ]
  },
  {
   "cell_type": "code",
   "execution_count": 16,
   "metadata": {},
   "outputs": [
    {
     "data": {
      "image/png": "[encoded data removed]",
      "text/plain": [
       "<Figure size 1000x600 with 1 Axes>"
      ]
     },
     "metadata": {},
     "output_type": "display_data"
    }
   ],
   "source": [
    "# Visualize the importance of features\n",
    "\n",
    "import numpy as np\n",
    "\n",
    "importances = model.feature_importances_\n",
    "indices = np.argsort(importances)[::-1]\n",
    "\n",
    "plt.figure(figsize=(10, 6))\n",
    "plt.title('Feature Importances')\n",
    "plt.bar(range(X.shape[1]), importances[indices], align='center')\n",
    "plt.xticks(range(X.shape[1]), np.array(X.columns)[indices], rotation=90)\n",
    "plt.xlim([-1, X.shape[1]])\n",
    "plt.show()\n"
   ]
  },
  {
   "cell_type": "markdown",
   "metadata": {},
   "source": [
    "1) Interpretation of results\n",
    "\n",
    "Looking at the precision, 79% of the 99 predicted by the model as 0(non-diabetic) are indeed 0.\n",
    "Looking at recall, model predicted 78% of the 99 that are real 0(non-diabatic).\n",
    "Looking at the f1-score, the precision and recall are balanced at 0(non-diabetic), however the performance for 1(diabetic) is relatively low at 0.61.\n",
    "Looking at the accuracy, 72% of the total 154 samples were correctly predicted.\n",
    "\n",
    "2) Evaluation of the random forest model\n",
    "\n",
    "The model shows relatively good performance for 0(non-diabetic), but relatively low performance for 1(diabetic). In particular, class 1's Precision and Recall are low, so it may often miss diabetics. Such characteristics are also represented in the confusion matrix. Model improvements may be necessary.\n",
    "\n",
    "By referring to feature's importance visualization, it is expected that additional studies on glucose, bmi index, age, family history data, and the possibility of diabetes can be conducted."
   ]
  },
  {
   "cell_type": "code",
   "execution_count": 8,
   "metadata": {},
   "outputs": [
    {
     "name": "stdout",
     "output_type": "stream",
     "text": [
      "Accuracy: 0.7467532467532467\n",
      "              precision    recall  f1-score   support\n",
      "\n",
      "           0       0.81      0.80      0.80        99\n",
      "           1       0.64      0.65      0.65        55\n",
      "\n",
      "    accuracy                           0.75       154\n",
      "   macro avg       0.72      0.73      0.73       154\n",
      "weighted avg       0.75      0.75      0.75       154\n",
      "\n"
     ]
    }
   ],
   "source": [
    "# n_estimators =  the # of trees in the forest\n",
    "# criterion = 'gini' (criterion of node split)\n",
    "# max_depth of each tree. The deeper, the more complex. But, if it is too deep, overfitting risk exists.\n",
    "model_2 = RandomForestClassifier(\n",
    "            n_estimators = 1000,\n",
    "            criterion = 'gini',\n",
    "            min_samples_split = 10,\n",
    "            max_depth = 14,\n",
    "            random_state = 42\n",
    ")\n",
    "\n",
    "model_2.fit(X_train, y_train)\n",
    "y_pred_2 = model_2.predict(X_test)\n",
    "\n",
    "print(\"Accuracy:\", accuracy_score(y_test, y_pred_2))\n",
    "print(classification_report(y_test, y_pred_2))"
   ]
  },
  {
   "cell_type": "markdown",
   "metadata": {},
   "source": [
    "1) Evaluation of the random forest model 2 with adjusting hyper-parameters\n",
    "\n",
    "As a result of training with the second model by adjusting the hyper-parameters a little, the prediction accuracy for 0(non-diabetic) is still high. Although the prediction accuracy for 1(diabetic) is higher than before, it still seems to need improvement."
   ]
  },
  {
   "cell_type": "markdown",
   "metadata": {},
   "source": [
    "- Random Forests Applications\n",
    "\n",
    "1) Random Forest in Biological Science\n",
    "\n",
    "Random forest classification may be used to predict the occurrence of a specific disease based on the patient's diagnostic data as in the example above.\n",
    "\n",
    "2) Random Forest in Sports\n",
    "\n",
    "Random forest can also be used to analyze sports game data to establish the optimal strategy for a particular team(Determination of attack or defense strategies). It can also be applied to deciding whether to renew the contract or buy another player by analyzing the player's performance and checking whether the team needs the player.\n",
    "\n",
    "3) Random Forest in Finance\n",
    "\n",
    "Random forest can be used to evaluate credit risk by analyzing the income, debt, and credit data of the person who applied for the loan, and then to determine whether to approve the loan. It can also be useful to analyze financial data, such as past returns and costs, and use it to predict future cash flows and build a budget.\n"
   ]
  }
 ],
 "metadata": {
  "kernelspec": {
   "display_name": "Python 3",
   "language": "python",
   "name": "python3"
  },
  "language_info": {
   "codemirror_mode": {
    "name": "ipython",
    "version": 3
   },
   "file_extension": ".py",
   "mimetype": "text/x-python",
   "name": "python",
   "nbconvert_exporter": "python",
   "pygments_lexer": "ipython3",
   "version": "3.9.7"
  },
  "orig_nbformat": 4
 },
 "nbformat": 4,
 "nbformat_minor": 2
}
